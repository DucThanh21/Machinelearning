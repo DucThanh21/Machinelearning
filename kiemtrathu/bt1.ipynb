{
 "cells": [
  {
   "cell_type": "code",
   "execution_count": null,
   "metadata": {},
   "outputs": [],
   "source": [
    "import math\n",
    "def euclidean_distance(x, y):\n",
    "    distance = 0\n",
    "    for i in range(len(x)):\n",
    "        distance += (x[i] - y[i])**2\n",
    "    distance = math.sqrt(distance)\n",
    "    #Code here\n",
    "    return distance\n",
    "x = [1,2,3]\n",
    "y = [4,5,6]\n",
    "print(euclidean_distance(x, y)) "
   ]
  }
 ],
 "metadata": {
  "language_info": {
   "name": "python"
  }
 },
 "nbformat": 4,
 "nbformat_minor": 2
}
