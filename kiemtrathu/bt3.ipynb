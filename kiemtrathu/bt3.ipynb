{
 "cells": [
  {
   "cell_type": "code",
   "execution_count": null,
   "metadata": {},
   "outputs": [],
   "source": [
    "import numpy as np\n",
    "\n",
    "def gini_impurity(y):\n",
    "    unique_classes, counts = np.unique(y, return_counts=True)  # Sửa thành return_counts=True\n",
    "    probabilities = counts / len(y)\n",
    "    return 1 - np.sum(probabilities ** 2)\n",
    "\n",
    "y = np.array([0, 0, 1, 1, 0, 1])\n",
    "gini = gini_impurity(y)\n",
    "print(\"Gini Impurity của tập dữ liệu là:\", gini)"
   ]
  }
 ],
 "metadata": {
  "language_info": {
   "name": "python"
  }
 },
 "nbformat": 4,
 "nbformat_minor": 2
}
