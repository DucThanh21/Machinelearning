import numpy as np
import matplotlib.pyplot as plt

# Dữ liệu chiều cao của sinh viên
X = np.array([180, 162, 183, 174, 160, 163, 180, 165, 175, 170, 170, 169,
              168, 175, 169, 171, 155, 158, 175, 165]).reshape(-1, 1)

# Dữ liệu cân nặng của sinh viên
y = np.array([86, 55, 86.5, 70, 62, 54, 60, 72, 93, 89, 60, 82, 59, 75,
              56, 89, 45, 60, 60, 72]).reshape(-1, 1)
        
# Thêm cột 1 vào X để tính hệ số chặn theta_0
X = np.insert(X, 0, 1, axis=1)

# Tính toán theta theo công thức hồi quy tuyến tính
theta = np.linalg.inv(X.T @ X) @ X.T @ y

# Dự đoán cân nặng cho các chiều cao 150 cm và 190 cm
x1 = 150
y1 = theta[0] + theta[1] * x1
x2 = 190
y2 = theta[0] + theta[1] * x2

# Vẽ đồ thị
plt.plot([x1, x2], [y1, y2], 'r-', label='Đường hồi quy')
plt.plot(X[:, 1], y, 'bo', label='Dữ liệu thực tế')

# Đặt nhãn cho đồ thị
plt.xlabel('Chiều cao (cm)')
plt.ylabel('Cân nặng (kg)')
plt.title('Chiều cao và cân nặng của sinh viên VLU')
plt.legend()

# Hiển thị đồ thị
plt.show()
